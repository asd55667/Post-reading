{
 "cells": [
  {
   "cell_type": "markdown",
   "metadata": {},
   "source": [
    "引入RPN模块, 代替原来的Selective Search来生成RoI\n",
    "\n",
    "### RPN\n",
    "带attention机制的FCN, 利用卷积的特性来生成RoI\n",
    "\n",
    "\n",
    "在滑窗的中心生成9个anchor(经尺度与朝向变换各3次),\n",
    "- 去除过边界的anchor\n",
    "- anchor IoU大于0.7的和单一标签最高的label设为1, 小于0.3的设为0\n",
    "- 除去无效的anchor\n",
    "\n",
    "对每个滑窗, 同时预测多个proposals, 对滑窗内proposals的最大数目进行二分类, 确定其位置是否存在目标,\n",
    "\n",
    "Translation-invariant,\n",
    "anchor找到图片中的目标的同时, proposals同时也应找到对应的位置, 基于k-means的MultiBox无法做到这一点,同时具有更多的参数,\n"
   ]
  },
  {
   "cell_type": "markdown",
   "metadata": {},
   "source": [
    "### 训练\n",
    "- 1.交替训练\n",
    "\n",
    "用RPN训练出的proposals来训练FastRCNN, 再用训练好的FastRCNN来初始化RPN\n",
    "- 2.Approximate联合训练\n",
    "\n",
    "结合RPN与FastRCNN的损失,用混合梯度来训练Conv层; 比起交替训练,缩短了四分之一到二分之一的训练时间,不足之处在于,这样训练忽略了proposal box的梯度, \n",
    "\n",
    "- 3.Non-approximate联合训练\n",
    "\n",
    "要求RoI pooling层得可微, 弥补Approximate联合训练的不足\n"
   ]
  }
 ],
 "metadata": {
  "kernelspec": {
   "display_name": "tf",
   "language": "python",
   "name": "tf"
  },
  "language_info": {
   "codemirror_mode": {
    "name": "ipython",
    "version": 3
   },
   "file_extension": ".py",
   "mimetype": "text/x-python",
   "name": "python",
   "nbconvert_exporter": "python",
   "pygments_lexer": "ipython3",
   "version": "3.6.7"
  }
 },
 "nbformat": 4,
 "nbformat_minor": 2
}
