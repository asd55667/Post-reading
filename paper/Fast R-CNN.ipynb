{
 "cells": [
  {
   "cell_type": "markdown",
   "metadata": {},
   "source": [
    "### RCNN与SPPnet的不足\n",
    "- 1. 训练的pipeline步骤多,\n",
    "- 2. 训练代价高, 占用的空间与时间多\n",
    "- 3. 推理过程慢, 难以用于实际应用\n",
    "\n",
    "\n",
    "### Fast RCNN\n",
    "- 1. 端到端训练, 多任务损失\n",
    "- 2. 训练能更新整个网络的参数\n",
    "- 3. 无需缓存特征\n",
    "\n",
    "\n",
    "### 网络结构\n",
    "输入为原始图片及RoI\n",
    "\n",
    "先将原图经过卷积网络得到特征图,\n",
    "\n",
    "再通过RoI pooling(单个的SPP层)从特征图提取RoI特征向量\n",
    "\n",
    "\n",
    "SPPnet无法更新SPP层下的权重,\n",
    "由于RoI取自整张图片,感受野大,梯度在不同图片的RoI中的传播十分低效,"
   ]
  },
  {
   "cell_type": "markdown",
   "metadata": {},
   "source": [
    "### 多任务损失\n",
    "$L(p,u,t^u,v) = L_{cls}(p,u)+\\lambda [u \\geq 1]L_{loc}(t^u,v)$\n",
    "\n",
    "$类别损失L_{cls}(p,u)=-log p_u$\n",
    "\n",
    "boundingbox损失\n",
    "\\begin{equation}\n",
    "L_{loc}(t^u,v)=\\sum _{i\\in {x,y,w,h}}smooth_{L_1}(t_i^u-v_i)\n",
    "\\end{equation}\n",
    "\n",
    "$\n",
    "smooth_{L_1}(x)=\n",
    "\\left\\{\n",
    "\\begin{aligned}\n",
    "   0.5x_2& & if |x|<1  \\\\\n",
    "   |x|-0.5& & otherwise,\n",
    " \\end{aligned}\n",
    " \\right.\n",
    "$\n",
    "$文章中的L_1损失对轮廓的不那么敏感,相较于RCNN与SPPnet中的L_2损失； 当回归的目标值没有限制的时候, L_2u损失对学习率要特别小心, 容易梯度爆炸$"
   ]
  },
  {
   "cell_type": "markdown",
   "metadata": {},
   "source": [
    "### mini-batch sampling\n",
    "全排列数据集,随机取其中一对, RoI大小为128,\n",
    "\n",
    "其中四分之一正样本RoI,IoU大于0.5,\n",
    "\n",
    "剩下的为背景,IoU在0.1至0.5之间"
   ]
  },
  {
   "cell_type": "markdown",
   "metadata": {},
   "source": [
    "### SVD加快检测\n",
    "对整个分类任务,卷积上花的时间比FC层要多,\n",
    "\n",
    "但RoI数量的检测上,FC层上花费的时间占了近整个前匮网络的一半,\n",
    "一个参数较多的FC层能在SVD后大大的加速\n",
    "\n",
    "$W\\approx U\\Sigma_tV^T$\n",
    "\n",
    "\n",
    "能将参数量有uv降至t(u+v)\n",
    "\n",
    "$具体做法是将一层FC层换成两层,第一层权重为\\Sigma_tV^T, 第二层权重为U$\n",
    "\n",
    "当RoI数量很大时能加速很多"
   ]
  }
 ],
 "metadata": {
  "kernelspec": {
   "display_name": "tf",
   "language": "python",
   "name": "tf"
  },
  "language_info": {
   "codemirror_mode": {
    "name": "ipython",
    "version": 3
   },
   "file_extension": ".py",
   "mimetype": "text/x-python",
   "name": "python",
   "nbconvert_exporter": "python",
   "pygments_lexer": "ipython3",
   "version": "3.6.7"
  }
 },
 "nbformat": 4,
 "nbformat_minor": 2
}
