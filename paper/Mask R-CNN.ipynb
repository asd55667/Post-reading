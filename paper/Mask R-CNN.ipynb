{
 "cells": [
  {
   "cell_type": "markdown",
   "metadata": {},
   "source": [
    "在FasterRCNN的基础上添加了RoIAlign, 解决其中的不对齐问题. \n",
    "\n",
    "MaskRCNN分为两步, FasterRCNN中RPN预测类别与框, RoIAlign针对每个RoI输出二进制的mask\n",
    "\n",
    "训练中的多任务损失为$L=L_{cls}+L_{box}+L_{mask}$\n",
    "\n",
    "与FCN不同,MaskRCNN通过分类网络预测类别来选择输出的mask, \n",
    "$L_{mask}能让网络为每个类别生成mask同时不受其他类别干扰$"
   ]
  },
  {
   "cell_type": "markdown",
   "metadata": {},
   "source": [
    "### Mask Representation\n",
    "mask编码输入对象的空间布局信息, 而类别与框框信息只是由FC层生成的输出向量,\n",
    "\n",
    "mask通过预测FCN产出的RoI而得到, 这允许mask具有输入对象的空间布局信息,\n",
    "\n",
    "### RoIAlign\n",
    "RoIPool在对RoI池化时,会对下采样得到的小数进行取整操作, \n",
    "这将导致在输出上微小的误差,会经多层的Pooling放大, 大大影响分割任务的结果\n",
    "\n",
    "针对这个问题,RoIAlign摒弃了量化操作, 将RoI按kxk网格分割,对每个网格取4个采样点, 用双线性内插从特征图上的邻近网格点来计算这4个点的值.只要不进行量化操作,最后的结果不受采样的位置,多少个采样点所影响\n",
    "\n"
   ]
  }
 ],
 "metadata": {
  "kernelspec": {
   "display_name": "tf",
   "language": "python",
   "name": "tf"
  },
  "language_info": {
   "codemirror_mode": {
    "name": "ipython",
    "version": 3
   },
   "file_extension": ".py",
   "mimetype": "text/x-python",
   "name": "python",
   "nbconvert_exporter": "python",
   "pygments_lexer": "ipython3",
   "version": "3.6.7"
  }
 },
 "nbformat": 4,
 "nbformat_minor": 2
}
