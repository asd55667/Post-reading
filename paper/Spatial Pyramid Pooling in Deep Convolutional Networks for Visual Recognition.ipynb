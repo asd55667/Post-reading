{
 "cells": [
  {
   "cell_type": "markdown",
   "metadata": {},
   "source": [
    "卷积网络通常包括卷积层与全连接层, 其中只有全连接层对输入尺寸有要求\n",
    "\n",
    "## SPP\n",
    "- 对任意尺寸的输入, 能生成固定大小的输出\n",
    "- 根据输入尺寸选择多层滑动窗口, 能捕捉空间信息\n",
    "- 输入为非固定尺度的特征, 具有多样性, 在深度网络应用中能降低过拟合, 取得更好的结果\n",
    "\n"
   ]
  },
  {
   "cell_type": "markdown",
   "metadata": {},
   "source": [
    "类似于传统的特征图提取过程:\n",
    "- SIFT向量\n",
    "- 密集提取并编码的patches\n",
    "- 矢量量化\n",
    "- 稀疏编码\n",
    "- Fisher核\n",
    "\n",
    "再经由BoW池化"
   ]
  },
  {
   "cell_type": "markdown",
   "metadata": {},
   "source": [
    "### 网络训练\n",
    "> cuda的卷积运算对固定输入尺寸的输入支持更好\n",
    "\n",
    "先用224x224单一尺寸的输入训练\n",
    "\n",
    "保留权重, 训练resize到180x180的单一尺寸的输入, 修改SPP层的窗口\n",
    "\n",
    "交替在两个不同尺寸输入上训练\n",
    "\n",
    "收敛速度与单一尺寸的网络差不多\n"
   ]
  },
  {
   "cell_type": "markdown",
   "metadata": {},
   "source": [
    "n为SPP层的bins\n",
    "$Kernel\\_size = \\left \\lceil{\\frac{Img_{in}}{n}}\\right \\rceil$\n",
    "\n",
    "$Strides=\\left \\lfloor{\\frac{Img_{in}}{n}} \\right \\rfloor$"
   ]
  },
  {
   "cell_type": "markdown",
   "metadata": {},
   "source": [
    "[看到的另一种公式](http://www.cnblogs.com/marsggbo/p/8572846.html#top)\n",
    "\n",
    "$Kernel\\_size = \\left \\lceil{\\frac{Img_{in}}{n}}\\right \\rceil$\n",
    "\n",
    "$Strides=\\left \\lceil{\\frac{Img_{in}}{n}} \\right \\rceil$\n",
    "\n",
    "$padding=\\left \\lfloor{\\frac{Kernel\\_size*n-Img_{in}+1}{2}} \\right \\rfloor$\n",
    "\n",
    "$Img_{out}=2*padding+Img_{in}$"
   ]
  }
 ],
 "metadata": {
  "kernelspec": {
   "display_name": "tf",
   "language": "python",
   "name": "tf"
  },
  "language_info": {
   "codemirror_mode": {
    "name": "ipython",
    "version": 3
   },
   "file_extension": ".py",
   "mimetype": "text/x-python",
   "name": "python",
   "nbconvert_exporter": "python",
   "pygments_lexer": "ipython3",
   "version": "3.6.7"
  }
 },
 "nbformat": 4,
 "nbformat_minor": 2
}
