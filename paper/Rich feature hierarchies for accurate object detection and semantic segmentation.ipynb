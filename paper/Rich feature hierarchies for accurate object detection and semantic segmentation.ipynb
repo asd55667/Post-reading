{
 "cells": [
  {
   "cell_type": "markdown",
   "metadata": {},
   "source": [
    "### RCNN\n",
    "将神经网络应用到目标检测任务中,并取得了性能上巨大的提升,\n",
    "RCNN的缺点在于训练所耗费的时间过长"
   ]
  },
  {
   "cell_type": "markdown",
   "metadata": {},
   "source": [
    "### 模块设计\n",
    "\n",
    "- Region proposals\n",
    "\n",
    "selective search\n",
    "- Feature extraciton \n",
    "\n",
    "用fine-tuned AlexNet来提取Region proposals的特征,\n",
    "- Test-time detection\n",
    "\n",
    "用SVM对特征进行分类, 对Region proposals的分类结果,采用Greedy NMS来排除IoU大于指定阈值的Region"
   ]
  }
 ],
 "metadata": {
  "kernelspec": {
   "display_name": "tf",
   "language": "python",
   "name": "tf"
  },
  "language_info": {
   "codemirror_mode": {
    "name": "ipython",
    "version": 3
   },
   "file_extension": ".py",
   "mimetype": "text/x-python",
   "name": "python",
   "nbconvert_exporter": "python",
   "pygments_lexer": "ipython3",
   "version": "3.6.7"
  }
 },
 "nbformat": 4,
 "nbformat_minor": 2
}
