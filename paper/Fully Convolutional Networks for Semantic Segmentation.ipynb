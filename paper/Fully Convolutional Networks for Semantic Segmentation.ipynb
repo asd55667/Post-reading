{
 "cells": [
  {
   "cell_type": "markdown",
   "metadata": {},
   "source": [
    "### FCN\n",
    "去掉AlexNet,VGG这类网络最后的FC层, 支持任意尺寸的输入, 保留了输入的空间信息,\n",
    "\n",
    "\n",
    "### Shift-and-stitch is filter rarefaction\n",
    "密集预测可以由大块的输出经过平移后缝合一起而得到,\n",
    "像这种变换,也可以通过atrous算法得到同样的结果,\n",
    "\n",
    "网络经过卷积池化后尺寸不断变小,为得到原本尺寸的输出得将最后上采样的filter相应的扩大直到满足要求, 减小降采样尺度也是一直选择,\n",
    "\n",
    "### Upsampling\n",
    "解卷积还原输出的尺寸难以实现\n",
    "\n",
    "插值是另一种转换输出为密集预测的方法, 用单层网络即可学习出双线性插值的效果, 通过像素级损失\n",
    "\n",
    "优化过程中, 训练的分布决定了梯度.对patch均匀采样来训练效果比patch-wise,whole image训练效果要差的多,"
   ]
  },
  {
   "cell_type": "markdown",
   "metadata": {},
   "source": [
    "### skips\n",
    "以VGG16为FCN的卷积得到最好的效果,\n",
    "\n",
    "上采样结合浅层的池化层使结果更好"
   ]
  }
 ],
 "metadata": {
  "kernelspec": {
   "display_name": "tf",
   "language": "python",
   "name": "tf"
  },
  "language_info": {
   "codemirror_mode": {
    "name": "ipython",
    "version": 3
   },
   "file_extension": ".py",
   "mimetype": "text/x-python",
   "name": "python",
   "nbconvert_exporter": "python",
   "pygments_lexer": "ipython3",
   "version": "3.6.7"
  }
 },
 "nbformat": 4,
 "nbformat_minor": 2
}
