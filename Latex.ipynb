{
 "cells": [
  {
   "cell_type": "markdown",
   "metadata": {},
   "source": [
    "$\\forall$"
   ]
  },
  {
   "cell_type": "markdown",
   "metadata": {},
   "source": [
    "$\\exists$"
   ]
  },
  {
   "cell_type": "markdown",
   "metadata": {},
   "source": [
    "$\\hat{a}$\n",
    "$\\grave{a}$\n",
    "$\\bar{a}$\n",
    "$\\check{a}$\n",
    "$\\dot{a}$\n",
    "$\\vec{a}$\n",
    "$\\tilde{a}$\n",
    "$\\ddot{a}$\n",
    "$\\widehat{a}$\n",
    "$\\acute{a}$\n",
    "$\\breve{a}$\n",
    "$\\widetilde{a}$"
   ]
  },
  {
   "cell_type": "code",
   "execution_count": 12,
   "metadata": {},
   "outputs": [
    {
     "data": {
      "text/plain": [
       "['\\x07lpha',\n",
       " '\\x08eta',\n",
       " '\\\\gamma',\n",
       " '\\\\delta',\n",
       " '\\\\epsilon',\n",
       " 'arepsilon',\n",
       " '\\\\zeta',\n",
       " '\\\\eta',\n",
       " 'heta',\n",
       " 'artheta',\n",
       " '\\\\iota']"
      ]
     },
     "execution_count": 12,
     "metadata": {},
     "output_type": "execute_result"
    }
   ],
   "source": [
    "import re\n",
    "re.split(r'\\s+','\\alpha \\beta  \\gamma  \\delta  \\epsilon  \\varepsilon  \\zeta   \\eta   \\theta  \\vartheta  \\iota')"
   ]
  },
  {
   "cell_type": "markdown",
   "metadata": {},
   "source": [
    "$\\alpha \\beta  \\gamma  \\delta  \\epsilon  \\varepsilon  \\zeta   \\eta   \\theta  \\vartheta  \\iota$"
   ]
  },
  {
   "cell_type": "markdown",
   "metadata": {},
   "source": [
    "$\\kappa\\lambda\\mu\\nu\\xi\\pi\\varpi\\rho\\varrho$"
   ]
  },
  {
   "cell_type": "markdown",
   "metadata": {},
   "source": [
    "$\\sigma\\varsigma\\tau\\upsilon\\phi\\varphi\\chi\\psi\\omega$"
   ]
  },
  {
   "cell_type": "markdown",
   "metadata": {},
   "source": [
    "$\\Gamma\\Delta\\Theta\\Lambda\\Xi\\Pi\\Sigma\\Upsilon\\Phi\\Psi\\Omega$"
   ]
  },
  {
   "cell_type": "markdown",
   "metadata": {},
   "source": [
    "$\\notin\\neq\\leq\\ll\\subset\\subseteq\\geq\\gg\\sim\\doteq\\equiv\\approx\\propto\\perp\\parallel$"
   ]
  },
  {
   "cell_type": "markdown",
   "metadata": {},
   "source": [
    "$\\pm\\cdot\\times\\cup\\vee\\oplus\\odot\\otimes\\bigtriangleup\\mp\\cap\\setminus\\bigtriangledown\\star\\ast\\circ\\diamond\\wr$"
   ]
  },
  {
   "cell_type": "markdown",
   "metadata": {},
   "source": [
    "$\\sum\\prod\\coprod\\int\\bigcup\\bigcap\\oint\\bigoplus\\bigotimes\\bigodot$"
   ]
  },
  {
   "cell_type": "markdown",
   "metadata": {},
   "source": [
    "$\n",
    "  \\begin{matrix}\n",
    "   1 & 2 & 3 \\\\\n",
    "   4 & 5 & 6 \\\\\n",
    "   7 & 8 & 9\n",
    "  \\end{matrix} \\tag{1}\n",
    "$"
   ]
  },
  {
   "cell_type": "markdown",
   "metadata": {},
   "source": [
    "$$ \n",
    "\\left[\n",
    "    \\begin{array}{cc|c}\n",
    "      1 & 2 & 3 \\\\\n",
    "      4 & 5 & 6\n",
    "    \\end{array}\n",
    "\\right] \\tag{7}\n",
    "$$"
   ]
  },
  {
   "cell_type": "markdown",
   "metadata": {},
   "source": [
    "$$\n",
    "\\left[\n",
    "\\begin{matrix}\n",
    " 1      & 2      & \\cdots & 4      \\\\\n",
    " 7      & 6      & \\cdots & 5      \\\\\n",
    " \\vdots & \\vdots & \\ddots & \\vdots \\\\\n",
    " 8      & 9      & \\cdots & 0      \\\\\n",
    "\\end{matrix}\n",
    "\\right]\n",
    "$$"
   ]
  },
  {
   "cell_type": "markdown",
   "metadata": {},
   "source": [
    "$$\n",
    " \\begin{Bmatrix}\n",
    "   1 & 2 & 3 \\\\\n",
    "   4 & 5 & 6 \\\\\n",
    "   7 & 8 & 9\n",
    "  \\end{Bmatrix} \\tag{5}\n",
    "$$"
   ]
  },
  {
   "cell_type": "markdown",
   "metadata": {},
   "source": [
    "$$\n",
    " \\begin{bmatrix}\n",
    "   1 & 2 & 3 \\\\\n",
    "   4 & 5 & 6 \\\\\n",
    "   7 & 8 & 9\n",
    "  \\end{bmatrix} \\tag{4}\n",
    "$$"
   ]
  },
  {
   "cell_type": "markdown",
   "metadata": {},
   "source": [
    "$\\bigl( \\begin{smallmatrix} a & b \\\\ c & d \\end{smallmatrix} \\bigr)$ "
   ]
  },
  {
   "cell_type": "markdown",
   "metadata": {},
   "source": [
    "\\begin{equation}\n",
    "\t\\mathop{\\arg\\min}_{\\theta} \\ \\ \\| \\mathrm{J} (\\theta)\\|\n",
    "\\end{equation}"
   ]
  }
 ],
 "metadata": {
  "kernelspec": {
   "display_name": "tf",
   "language": "python",
   "name": "tf"
  },
  "language_info": {
   "codemirror_mode": {
    "name": "ipython",
    "version": 3
   },
   "file_extension": ".py",
   "mimetype": "text/x-python",
   "name": "python",
   "nbconvert_exporter": "python",
   "pygments_lexer": "ipython3",
   "version": "3.6.7"
  }
 },
 "nbformat": 4,
 "nbformat_minor": 2
}
